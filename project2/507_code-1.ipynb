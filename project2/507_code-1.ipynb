{
  "nbformat": 4,
  "nbformat_minor": 0,
  "metadata": {
    "colab": {
      "name": "507_code.ipynb",
      "provenance": [],
      "collapsed_sections": []
    },
    "kernelspec": {
      "name": "python3",
      "display_name": "Python 3"
    },
    "language_info": {
      "name": "python"
    }
  },
  "cells": [
    {
      "cell_type": "code",
      "execution_count": 3,
      "metadata": {
        "id": "9DZq_c_sTdY0"
      },
      "outputs": [],
      "source": [
        "import numpy as np\n",
        "import random\n",
        "import matplotlib.pyplot as plt"
      ]
    },
    {
      "cell_type": "code",
      "source": [
        "# yearly donations and spendings\n",
        "cash_in = np.array([2,2.2,2.4,2.8,3.2,3.6,3.5,3.4,3.4,3.4]).reshape((-1,1))\n",
        "cash_out = np.array([1.7,1.8,1.9,2.0,2.2,2.3,2.4,2.5,2.6,2.7]).reshape((-1,1))\n",
        "\n",
        "# mean and standard deviation for each asset returns\n",
        "mu = np.array([0.057,0.054,0.052,0.05,0.033,0.063,0.028]).reshape((-1,1))\n",
        "sd = np.array([0.176,0.187,0.243,0.192,0.037,0.066,0.056]).reshape((-1,1))\n",
        "\n",
        "# correlation between each assets\n",
        "corr = np.array(([1,0.74,0.67,0.74,0.13,0.47,0.02],[0.74,1,0.7,0.78,0.09,0.46,0],[0.67,0.7,1,0.66,0.07,0.45,-0.03],[0.74,0.78,0.66,1,0.1,0.37,-0.03],[0.13,0.09,0.07,0.1,1,0.1,0.1],[0.47,0.46,0.45,0.37,0.1,1,0.55],[0.02,0,-0.03,-0.03,0.1,0.55,1]))\n",
        "\n",
        "# covariance matrix for asset returns\n",
        "sigma = np.zeros(corr.shape)\n",
        "for i in range(7):\n",
        "  for j in range(7):\n",
        "    sigma[i,j] = corr[i,j] * sd[i]*sd[j]"
      ],
      "metadata": {
        "id": "nwLulBmRUmYH"
      },
      "execution_count": 5,
      "outputs": []
    },
    {
      "cell_type": "markdown",
      "source": [
        "**The following cell simulates the distribution of maximum wealth at year 10**"
      ],
      "metadata": {
        "id": "Drd4OyckjpYp"
      }
    },
    {
      "cell_type": "code",
      "source": [
        "W_max = []\n",
        "for i in range(10000):\n",
        "  scenario_num = 1000\n",
        "  x= np.random.multivariate_normal([0.057,0.054,0.052,0.05,0.033,0.063,0.028],sigma,scenario_num).T\n",
        "  r = np.exp(x)-1\n",
        "  mix = np.array(([0,0,0,0,0.7,0.08,0.22],[0,0,0,0,0.57,0.43,0],[0,0,0,0,0.34,0.66,0],[0,0,0,0,0.12,0.88,0],[0.03,0,0.16,0,0,0.81,0],[0.06,0,0.42,0,0,0.52,0],[0.09,0,0.69,0,0,0.22,0]))\n",
        "  rp = np.dot(mix,r) # portfolio return for each mix\n",
        "  x = np.amax(rp,axis = 0).reshape((1,-1)) # row vector where each entry is the maximum return of each scenario\n",
        "\n",
        "  w = 15 # initial wealth\n",
        "  for j in range(10):# change this line for different years\n",
        "    id = random.randint(1,scenario_num-1)\n",
        "    w = (w+cash_in[j]-cash_out[j])*(1+x[0,id])\n",
        "  W_max.append(int(w))\n",
        "\n",
        "plt.hist(W_max,bins = 100,color = 'r')\n",
        "plt.title(\"Range of maximum wealth\")"
      ],
      "metadata": {
        "colab": {
          "base_uri": "https://localhost:8080/",
          "height": 298
        },
        "id": "0uQoSUeReWD6",
        "outputId": "7c469a07-6240-41af-8996-b9407f2987d1"
      },
      "execution_count": 6,
      "outputs": [
        {
          "output_type": "execute_result",
          "data": {
            "text/plain": [
              "Text(0.5, 1.0, 'Range of maximum wealth')"
            ]
          },
          "metadata": {},
          "execution_count": 6
        },
        {
          "output_type": "display_data",
          "data": {
            "image/png": "[encoded data removed]",
            "text/plain": [
              "<Figure size 432x288 with 1 Axes>"
            ]
          },
          "metadata": {
            "needs_background": "light"
          }
        }
      ]
    },
    {
      "cell_type": "markdown",
      "source": [
        "**The following cell simulates the distribution of minimum wealth at year 10**"
      ],
      "metadata": {
        "id": "SYGKxy3rjzNw"
      }
    },
    {
      "cell_type": "code",
      "source": [
        "W_min = []\n",
        "for i in range(10000):\n",
        "  scenario_num = 1000\n",
        "  x= np.random.multivariate_normal([0.057,0.054,0.052,0.05,0.033,0.063,0.028],sigma,scenario_num).T\n",
        "  r = np.exp(x)-1\n",
        "  mix = np.array(([0,0,0,0,0.7,0.08,0.22],[0,0,0,0,0.57,0.43,0],[0,0,0,0,0.34,0.66,0],[0,0,0,0,0.12,0.88,0],[0.03,0,0.16,0,0,0.81,0],[0.06,0,0.42,0,0,0.52,0],[0.09,0,0.69,0,0,0.22,0]))\n",
        "  rp = np.dot(mix,r) # each column is one scenario and each row is the return of that mix\n",
        "  x = np.amin(rp,axis = 0).reshape((1,-1)) # row vector where each entry is the maximum return of each scenario\n",
        "\n",
        "  w = 15 # initial wealth\n",
        "  for j in range(10):\n",
        "    id = random.randint(1,scenario_num-1)\n",
        "    w = (w+cash_in[j]-cash_out[j])*(1+x[0,id])\n",
        "  W_min.append(int(w))\n",
        "\n",
        "plt.hist(W_min,bins = 100,color = 'r')\n",
        "plt.title(\"Range of minimum wealth\")"
      ],
      "metadata": {
        "colab": {
          "base_uri": "https://localhost:8080/",
          "height": 298
        },
        "id": "NL1kXiO9j_Ls",
        "outputId": "47595f91-5eb9-45d8-954b-b68a36691c37"
      },
      "execution_count": 7,
      "outputs": [
        {
          "output_type": "execute_result",
          "data": {
            "text/plain": [
              "Text(0.5, 1.0, 'Range of minimum wealth')"
            ]
          },
          "metadata": {},
          "execution_count": 7
        },
        {
          "output_type": "display_data",
          "data": {
            "image/png": "[encoded data removed]",
            "text/plain": [
              "<Figure size 432x288 with 1 Axes>"
            ]
          },
          "metadata": {
            "needs_background": "light"
          }
        }
      ]
    },
    {
      "cell_type": "markdown",
      "source": [
        "**Based on the above simulations, we could have a resonable guess for the level of wealth at year 10, which roughly ranges from 5 to 150**"
      ],
      "metadata": {
        "id": "OPdvvDIbkS9X"
      }
    },
    {
      "cell_type": "markdown",
      "source": [
        "**We first define the Utility function for different levels of wealth**"
      ],
      "metadata": {
        "id": "SZrwjZAolByb"
      }
    },
    {
      "cell_type": "code",
      "source": [
        "def Utility(W):\n",
        "  if(W>= 110):\n",
        "    return 5.8*(W**0.5-1)/0.5\n",
        "  elif (W>=100 and W<110):\n",
        "    return W\n",
        "  elif W <100 and W >= 95:\n",
        "    return 1.01*(W-np.exp(-0.001*(100 - W)))\n",
        "  elif W < 95 and W >= 0:\n",
        "    return W - 0.2*(95 - W)**2"
      ],
      "metadata": {
        "id": "WJ8et-yhiNF6"
      },
      "execution_count": 8,
      "outputs": []
    },
    {
      "cell_type": "markdown",
      "source": [
        "**creating senarios**"
      ],
      "metadata": {
        "id": "-zOmyw3puCkm"
      }
    },
    {
      "cell_type": "code",
      "source": [
        "scenario_num = 500\n",
        "x= np.random.multivariate_normal([0.057,0.054,0.052,0.05,0.033,0.063,0.028],sigma,scenario_num).T\n",
        "r = np.exp(x) - 1\n",
        "mix = np.array(([0,0,0,0,0.7,0.08,0.22],[0,0,0,0,0.57,0.43,0],[0,0,0,0,0.34,0.66,0],[0,0,0,0,0.12,0.88,0],[0.03,0,0.16,0,0,0.81,0],[0.06,0,0.42,0,0,0.52,0],[0.09,0,0.69,0,0,0.22,0]))\n",
        "rp = np.dot(mix,r) # each column is one scenario and each row is the return of that mix"
      ],
      "metadata": {
        "id": "WCpLHS7ZuGLB"
      },
      "execution_count": 9,
      "outputs": []
    },
    {
      "cell_type": "markdown",
      "source": [
        "**The next step is to construct the table for each stage, where each table consists of 3 columns: w(level of wealth),EU(expected unitility) and decision(a.k.a: which mix to take)**"
      ],
      "metadata": {
        "id": "szhpTHqBkpiD"
      }
    },
    {
      "cell_type": "markdown",
      "source": [
        "**We then define the class table to represent each stage**"
      ],
      "metadata": {
        "id": "VWQyqYmgwU6u"
      }
    },
    {
      "cell_type": "code",
      "source": [
        "class Table:\n",
        "  def __init__(self, wealth, EU, decisions):\n",
        "    self.wealth = wealth\n",
        "    self.EU = EU\n",
        "    self.decisions = decisions"
      ],
      "metadata": {
        "id": "vqoIiJMAwcsE"
      },
      "execution_count": 10,
      "outputs": []
    },
    {
      "cell_type": "markdown",
      "source": [
        "**creating table 10 which only consists of w_level and utility**"
      ],
      "metadata": {
        "id": "jdnQNkO3odMZ"
      }
    },
    {
      "cell_type": "code",
      "source": [
        "Table10 = Table(list(np.linspace(5,120,116)),[Utility(i) for i in list(np.linspace(5,120,116))],[])"
      ],
      "metadata": {
        "id": "PzdbAo48wrdH"
      },
      "execution_count": 11,
      "outputs": []
    },
    {
      "cell_type": "code",
      "source": [
        "def createTable(nextTable):\n",
        "  thisTable = Table(list(np.linspace(5,120,116)),[],[])\n",
        "  for w in thisTable.wealth:\n",
        "    EUlist = []\n",
        "    w_next = w*(1+rp)\n",
        "    for i in range(7):\n",
        "      sumEU = 0\n",
        "      for j in range(scenario_num):\n",
        "        if np.floor(w_next[i][j]) > 120:\n",
        "          w_next[i][j] = 120\n",
        "        elif np.floor(w_next[i][j]) < 5:\n",
        "          w_next[i][j] = 5\n",
        "        id = nextTable.wealth.index(np.floor(w_next[i][j]))\n",
        "        tempEu = nextTable.EU[id]\n",
        "        sumEU = sumEU + tempEu\n",
        "      EUlist.append(sumEU/scenario_num)\n",
        "    thisTable.EU.append(max(EUlist))\n",
        "    thisTable.decisions.append(EUlist.index(max(EUlist)))\n",
        "  return thisTable"
      ],
      "metadata": {
        "id": "GEqUHifiooOb"
      },
      "execution_count": 12,
      "outputs": []
    },
    {
      "cell_type": "markdown",
      "source": [
        "**Creating table 9 using table 10**"
      ],
      "metadata": {
        "id": "XPgxI6NkyYR3"
      }
    },
    {
      "cell_type": "code",
      "source": [
        "Table9 = createTable(Table10)\n",
        "Table8 = createTable(Table9)\n",
        "Table7 = createTable(Table8)\n",
        "Table6 = createTable(Table7)\n",
        "Table5 = createTable(Table6)\n",
        "Table4 = createTable(Table5)\n",
        "Table3 = createTable(Table4)\n",
        "Table2 = createTable(Table3)\n",
        "Table1 = createTable(Table2)"
      ],
      "metadata": {
        "id": "ikvYTU9Gopgs"
      },
      "execution_count": 13,
      "outputs": []
    },
    {
      "cell_type": "code",
      "source": [
        "Table0 = Table([15,17,20,22],[],[])\n",
        "\n",
        "for w in Table0.wealth:\n",
        "  EUlist = []\n",
        "  w_next = w*(1+rp)\n",
        "  for i in range(7): # go through each mix\n",
        "    sumEU = 0\n",
        "    for j in range(scenario_num):# go through each scenario\n",
        "       if np.floor(w_next[i][j]) > 120:\n",
        "         w_next[i][j] = 120\n",
        "       elif np.floor(w_next[i][j]) < 5:\n",
        "         w_next[i][j] = 5\n",
        "       id = Table1.wealth.index(np.floor(w_next[i][j]))\n",
        "       tempEu = Table1.EU[id]\n",
        "       sumEU = sumEU + tempEu\n",
        "    EUlist.append(sumEU/scenario_num)# average EU\n",
        "  Table0.EU.append(max(EUlist))\n",
        "  Table0.decisions.append(EUlist.index(max(EUlist)))"
      ],
      "metadata": {
        "id": "k0otP5cnpQli"
      },
      "execution_count": 14,
      "outputs": []
    },
    {
      "cell_type": "code",
      "source": [
        "wealth0 = Table0.wealth\n",
        "EU0 = Table0.EU\n",
        "Decision0 = Table0.decisions"
      ],
      "metadata": {
        "id": "COqsgEbDpToa"
      },
      "execution_count": 15,
      "outputs": []
    },
    {
      "cell_type": "code",
      "source": [
        "Decision0"
      ],
      "metadata": {
        "colab": {
          "base_uri": "https://localhost:8080/"
        },
        "id": "BOoHeae2pU_g",
        "outputId": "b5080860-7978-4a92-fc9d-f5c8412e76fd"
      },
      "execution_count": 16,
      "outputs": [
        {
          "output_type": "execute_result",
          "data": {
            "text/plain": [
              "[6, 6, 5, 4]"
            ]
          },
          "metadata": {},
          "execution_count": 16
        }
      ]
    },
    {
      "cell_type": "code",
      "source": [
        "x = list(np.linspace(5,120,116))\n",
        "plt.plot(x,Table9.decisions,label='year9')\n",
        "plt.plot(x,Table8.decisions,label='year8')\n",
        "plt.plot(x,Table7.decisions,label='year7')\n",
        "plt.plot(x,Table6.decisions,label='year6')\n",
        "plt.plot(x,Table5.decisions,label='year5')\n",
        "plt.plot(x,Table4.decisions,label='year4')\n",
        "plt.plot(x,Table3.decisions,label='year3')\n",
        "plt.plot(x,Table2.decisions,label='year2')\n",
        "plt.plot(x,Table1.decisions,label='year1')\n",
        "plt.xlabel('wealth level')\n",
        "plt.ylabel('mix selection')\n",
        "plt.title(\"Invesment Strategy\")\n",
        "plt.legend()"
      ],
      "metadata": {
        "colab": {
          "base_uri": "https://localhost:8080/",
          "height": 312
        },
        "id": "O9MibXCzsa3V",
        "outputId": "f46ceaab-ad07-42ba-96c7-1df74ca5b43c"
      },
      "execution_count": 17,
      "outputs": [
        {
          "output_type": "execute_result",
          "data": {
            "text/plain": [
              "<matplotlib.legend.Legend at 0x7f00a0346f10>"
            ]
          },
          "metadata": {},
          "execution_count": 17
        },
        {
          "output_type": "display_data",
          "data": {
            "image/png": "[encoded data removed]",
            "text/plain": [
              "<Figure size 432x288 with 1 Axes>"
            ]
          },
          "metadata": {
            "needs_background": "light"
          }
        }
      ]
    },
    {
      "cell_type": "markdown",
      "source": [
        "**Testing model**"
      ],
      "metadata": {
        "id": "8cKQZnUV2Zu9"
      }
    },
    {
      "cell_type": "code",
      "source": [
        "W = []\n",
        "Tables = [Table0,Table1,Table2,Table3,Table4,Table5,Table6,Table7,Table8,Table9,Table10]\n",
        "for i in range(10000):\n",
        "  w = 15\n",
        "  for j in range(10):\n",
        "    x = np.random.multivariate_normal([0.057,0.054,0.052,0.05,0.033,0.063,0.028],sigma,10).T\n",
        "    r = np.exp(x) - 1\n",
        "    mix = np.array(([0,0,0,0,0.7,0.08,0.22],[0,0,0,0,0.57,0.43,0],[0,0,0,0,0.34,0.66,0],[0,0,0,0,0.12,0.88,0],[0.03,0,0.16,0,0,0.81,0],[0.06,0,0.42,0,0,0.52,0],[0.09,0,0.69,0,0,0.22,0]))\n",
        "    rp = np.dot(mix,r)\n",
        "    rp = rp.T\n",
        "    if np.floor(w) < 5:\n",
        "      w = 5.1\n",
        "    w = np.floor(w)*(1+rp[j][Tables[j].decisions[Tables[j].wealth.index(np.floor(w))]])\n",
        "  W.append(w)\n",
        "\n",
        "plt.hist(W,bins = 100,color = 'r')\n",
        "plt.title(\"Distribution of wealth at year 10\")\n",
        "    \n",
        "    "
      ],
      "metadata": {
        "colab": {
          "base_uri": "https://localhost:8080/",
          "height": 298
        },
        "id": "8kPso1cD3AaG",
        "outputId": "746847f0-8116-4e64-f1b3-61d528f4f8de"
      },
      "execution_count": 133,
      "outputs": [
        {
          "output_type": "execute_result",
          "data": {
            "text/plain": [
              "Text(0.5, 1.0, 'Distribution of wealth at year 10')"
            ]
          },
          "metadata": {},
          "execution_count": 133
        },
        {
          "output_type": "display_data",
          "data": {
            "image/png": "[encoded data removed]",
            "text/plain": [
              "<Figure size 432x288 with 1 Axes>"
            ]
          },
          "metadata": {
            "needs_background": "light"
          }
        }
      ]
    }
  ]
}